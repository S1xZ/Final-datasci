{
 "cells": [
  {
   "cell_type": "code",
   "execution_count": 11,
   "metadata": {},
   "outputs": [],
   "source": [
    "import pandas as pd\n",
    "\n",
    "\n",
    "# load data from CSV to Pandas DataFrame\n",
    "df = pd.read_csv(\"../data/data.csv\")\n",
    "df = df.dropna()\n",
    "\n"
   ]
  },
  {
   "cell_type": "code",
   "execution_count": 8,
   "metadata": {},
   "outputs": [
    {
     "name": "stdout",
     "output_type": "stream",
     "text": [
      "ticket_id         object\n",
      "type              object\n",
      "organization      object\n",
      "comment           object\n",
      "coords            object\n",
      "photo             object\n",
      "photo_after       object\n",
      "address           object\n",
      "subdistrict       object\n",
      "district          object\n",
      "province          object\n",
      "timestamp         object\n",
      "state             object\n",
      "star             float64\n",
      "count_reopen       int64\n",
      "last_activity     object\n",
      "dtype: object\n"
     ]
    }
   ],
   "source": [
    "print(df.dtypes)\n"
   ]
  },
  {
   "cell_type": "code",
   "execution_count": 12,
   "metadata": {},
   "outputs": [
    {
     "name": "stdout",
     "output_type": "stream",
     "text": [
      "       ticket_id       type  \\\n",
      "230  2023-MBQGF4  {ทางเท้า}   \n",
      "266  2023-EWTZLW  {กีดขวาง}   \n",
      "355  2023-BF4T9B         {}   \n",
      "375  2023-6ZT6KU      {ถนน}   \n",
      "377  2023-G49XPX  {คนจรจัด}   \n",
      "\n",
      "                                          organization  \\\n",
      "230  เขตบางเขน,สน.บางเขน,ฝ่ายเทศกิจ เขตบางเขน,สำนัก...   \n",
      "266  เขตบางรัก,สน.ยานนาวา,สำนักงานตำรวจแห่งชาติ (Ro...   \n",
      "355  เขตตลิ่งชัน,สน.ตลิ่งชัน,สำนักงานตำรวจแห่งชาติ ...   \n",
      "375                                        เขตสะพานสูง   \n",
      "377        เขตบางกอกน้อย,ฝ่ายพัฒนาชุมชนฯ เขตบางกอกน้อย   \n",
      "\n",
      "                                               comment              coords  \\\n",
      "230                         ใช้พื้นที่ทางเท้าจอดรถยนต์  100.59010,13.87181   \n",
      "266  วางอุปกรณ์กีดขวางการจราจร อุปกรณ์ก้านเพื่อเป็น...  100.51857,13.72231   \n",
      "355                 ซากรถจอดทิ้งบนถนนมากมาย สัญจรลำบาก  100.41806,13.76649   \n",
      "375  แจ้งการรายงานผลการนับคะแนนเลือกตั้งผิด ซึ่งเป็...  100.67128,13.77615   \n",
      "377                        ขอให้ย้ายคนไร้บ้านไปที่อื่น  100.47805,13.75251   \n",
      "\n",
      "                                                 photo  \\\n",
      "230  https://storage.googleapis.com/traffy_public_b...   \n",
      "266  https://storage.googleapis.com/traffy_public_b...   \n",
      "355  https://storage.googleapis.com/traffy_public_b...   \n",
      "375  https://storage.googleapis.com/traffy_public_b...   \n",
      "377  https://storage.googleapis.com/traffy_public_b...   \n",
      "\n",
      "                                           photo_after  \\\n",
      "230  https://storage.googleapis.com/traffy_public_b...   \n",
      "266  https://storage.googleapis.com/traffy_public_b...   \n",
      "355  https://storage.googleapis.com/traffy_public_b...   \n",
      "375  https://storage.googleapis.com/traffy_public_b...   \n",
      "377  https://storage.googleapis.com/traffy_public_b...   \n",
      "\n",
      "                                               address   subdistrict  \\\n",
      "230  387 ซอย พหลโยธิน 53 แขวงอนุสาวรีย์ เขตบางเขน ก...    อนุสาวรีย์   \n",
      "266  Jewlery Trade Center Tower 919/255 Silom Road ...          สีลม   \n",
      "355  373 ถนน บางระมาด แขวงบางระมาด เขตตลิ่งชัน กรุง...      บางระมาด   \n",
      "375  QMGC+FH6 แขวงสะพานสูง เขตสะพานสูง กรุงเทพมหานค...      สะพานสูง   \n",
      "377  128 ถนน อิสรภาพ แขวง บ้านช่างหล่อ เขตบางกอกน้อ...  บ้านช่างหล่อ   \n",
      "\n",
      "       district       province                      timestamp      state  \\\n",
      "230      บางเขน  กรุงเทพมหานคร  2023-05-15 02:38:01.305859+00  เสร็จสิ้น   \n",
      "266      บางรัก  กรุงเทพมหานคร  2023-05-15 01:17:32.577694+00  เสร็จสิ้น   \n",
      "355    ตลิ่งชัน  กรุงเทพมหานคร  2023-05-14 15:54:28.913108+00  เสร็จสิ้น   \n",
      "375    สะพานสูง  กรุงเทพมหานคร  2023-05-14 14:25:16.724678+00  เสร็จสิ้น   \n",
      "377  บางกอกน้อย  กรุงเทพมหานคร  2023-05-14 14:15:36.296482+00  เสร็จสิ้น   \n",
      "\n",
      "     star  count_reopen                  last_activity   latitude longitude  \n",
      "230   5.0             0  2023-05-15 05:48:56.025565+00  100.59010  13.87181  \n",
      "266   5.0             0  2023-05-15 07:13:46.129699+00  100.51857  13.72231  \n",
      "355   4.0             0  2023-05-15 02:53:44.853081+00  100.41806  13.76649  \n",
      "375   4.0             0   2023-05-14 17:35:42.42282+00  100.67128  13.77615  \n",
      "377   3.0             0  2023-05-15 05:12:13.175214+00  100.47805  13.75251  \n"
     ]
    }
   ],
   "source": [
    "# split cords column into latitude and longitude\n",
    "df[['latitude', 'longitude']] = df.coords.str.split(\",\", expand=True)\n",
    "print(df.head())\n",
    "\n",
    "# write file to CSV\n",
    "df.to_csv(\"../data/data_clean.csv\", index=False)"
   ]
  }
 ],
 "metadata": {
  "kernelspec": {
   "display_name": "base",
   "language": "python",
   "name": "python3"
  },
  "language_info": {
   "codemirror_mode": {
    "name": "ipython",
    "version": 3
   },
   "file_extension": ".py",
   "mimetype": "text/x-python",
   "name": "python",
   "nbconvert_exporter": "python",
   "pygments_lexer": "ipython3",
   "version": "3.10.9"
  },
  "orig_nbformat": 4
 },
 "nbformat": 4,
 "nbformat_minor": 2
}
